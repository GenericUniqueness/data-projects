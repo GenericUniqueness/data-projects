{
  "nbformat": 4,
  "nbformat_minor": 0,
  "metadata": {
    "colab": {
      "provenance": [],
      "authorship_tag": "ABX9TyMUY9NczLtkH8/JhROd1kHk"
    },
    "kernelspec": {
      "name": "python3",
      "display_name": "Python 3"
    },
    "language_info": {
      "name": "python"
    }
  },
  "cells": [
    {
      "cell_type": "markdown",
      "source": [
        "# Day 2 — Python Refresher\n",
        "Practicing lists, dicts, loops, and basic data manipulation.\n"
      ],
      "metadata": {
        "id": "Yj2yC-rdBeth"
      }
    },
    {
      "cell_type": "code",
      "source": [
        "## Cleaning Text.\n",
        "import string\n",
        "import re\n",
        "\n",
        "def clean_text(text):\n",
        "\n",
        "  if len(text) > 0:\n",
        "\n",
        "    text = str(text)\n",
        "    text = text.lower()\n",
        "    text = re.sub(r'[^\\w\\s]','', text, flags=re.UNICODE)\n",
        "    words = text.split()\n",
        "    text = \" \".join(words)\n",
        "\n",
        "\n",
        "\n",
        "    #translator = str.maketrans(\"\",\"\", string.punctuation)\n",
        "    #text = text.translate(translator)\n",
        "\n",
        "\n",
        "  return(text)\n",
        "\n",
        "\n",
        "\n",
        "sentence = \"It's 2025 — cool. Lots of words here.\" # becomes 'its 2025 cool lots of words here'\n",
        "clean_text(sentence)\n",
        "\n"
      ],
      "metadata": {
        "colab": {
          "base_uri": "https://localhost:8080/",
          "height": 36
        },
        "id": "D1WdfJtbBfm1",
        "outputId": "07289a36-09fd-4ac8-afe9-f0c0986f0704"
      },
      "execution_count": 2,
      "outputs": [
        {
          "output_type": "execute_result",
          "data": {
            "text/plain": [
              "'its 2025 cool lots of words here'"
            ],
            "application/vnd.google.colaboratory.intrinsic+json": {
              "type": "string"
            }
          },
          "metadata": {},
          "execution_count": 2
        }
      ]
    },
    {
      "cell_type": "code",
      "source": [
        "## Counting words in a sentence\n",
        "\n",
        "def count_words(sentence):\n",
        "  if len(sentence) == 0:\n",
        "    return 0\n",
        "  else:\n",
        "     # sentence = clean_text(sentence)  # Optional, to use the clean text function defined above.\n",
        "      sentence = sentence.split()\n",
        "      return(len(sentence))\n",
        "\n",
        "sentence = \"It's 2025 — cool. Lots of words here.\"\n",
        "\n",
        "# print(clean_text(sentence))\n",
        "count_words(sentence)"
      ],
      "metadata": {
        "colab": {
          "base_uri": "https://localhost:8080/"
        },
        "id": "MG7HqguNKRWV",
        "outputId": "0f1f31e2-0c0b-4027-b42c-4cde704a67ad"
      },
      "execution_count": 8,
      "outputs": [
        {
          "output_type": "execute_result",
          "data": {
            "text/plain": [
              "8"
            ]
          },
          "metadata": {},
          "execution_count": 8
        }
      ]
    },
    {
      "cell_type": "code",
      "source": [
        "## Finding the row with the right key value pair\n",
        "\n",
        "def filter_rows (data, key, value):\n",
        "  return[row for row in data if row.get(key) == value]\n",
        "\n",
        "data = [{'name':'Ali', 'age':25}, {'name':'Hamza', 'age': 24}]\n",
        "filter_rows(data, 'age', 25)"
      ],
      "metadata": {
        "colab": {
          "base_uri": "https://localhost:8080/"
        },
        "id": "QsT0ZUcLdG5K",
        "outputId": "7e24ca81-d1fb-428d-ef80-52de3ecda239"
      },
      "execution_count": 11,
      "outputs": [
        {
          "output_type": "execute_result",
          "data": {
            "text/plain": [
              "[{'name': 'Ali', 'age': 25}]"
            ]
          },
          "metadata": {},
          "execution_count": 11
        }
      ]
    },
    {
      "cell_type": "code",
      "source": [
        "## Generating a summary from numbers\n",
        "\n",
        "def sum_nums(data):\n",
        "  minn = min(data)\n",
        "  maxx = max(data)\n",
        "  meann = sum(data)/len(data)\n",
        "\n",
        "  return(f\"min is {minn}, max is {maxx}, mean is {meann}\")\n",
        "\n",
        "\n",
        "nums = [1, 2, 3, 4, 5]\n",
        "sum_nums(nums)"
      ],
      "metadata": {
        "colab": {
          "base_uri": "https://localhost:8080/",
          "height": 36
        },
        "id": "zID7SpdHeL-M",
        "outputId": "a4470e19-69b5-4588-a71b-faf3ecf15725"
      },
      "execution_count": 15,
      "outputs": [
        {
          "output_type": "execute_result",
          "data": {
            "text/plain": [
              "'min is 1, max is5, mean is 3.0'"
            ],
            "application/vnd.google.colaboratory.intrinsic+json": {
              "type": "string"
            }
          },
          "metadata": {},
          "execution_count": 15
        }
      ]
    },
    {
      "cell_type": "code",
      "source": [
        "## Saving data to a csv file\n",
        "\n",
        "import csv\n",
        "\n",
        "def save_data(info, filename):\n",
        "  keys = data[0].keys()\n",
        "  with open(filename, 'w', newline='') as f:\n",
        "    writer = csv.DictWriter(f, fieldnames=keys)\n",
        "    writer.writeheader()\n",
        "    writer.writerows(info)\n",
        "\n",
        "\n",
        "\n",
        "data = [{'name':'Ali', 'age':25}, {'name':'Hamza', 'age': 22}]\n",
        "save_data(data, 'temp.csv')"
      ],
      "metadata": {
        "id": "5jTyqWOye7rE"
      },
      "execution_count": 23,
      "outputs": []
    }
  ]
}
